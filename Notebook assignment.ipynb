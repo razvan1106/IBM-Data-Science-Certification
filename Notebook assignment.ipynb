{
    "cells": [
        {
            "cell_type": "markdown",
            "metadata": {
                "collapsed": true
            },
            "source": "# My Jupyter Notebook on IBM Watson Studio"
        },
        {
            "cell_type": "markdown",
            "metadata": {},
            "source": "**Razvan Piciorea**\n\nData Scientist"
        },
        {
            "cell_type": "markdown",
            "metadata": {},
            "source": "*I am interested in data science because it's a very interesting profession, and can provide great opportunities. Also, it's a domain that is changing rapidly so boredom is definitely not in the cards*"
        },
        {
            "cell_type": "markdown",
            "metadata": {},
            "source": "### Just doing some maths"
        },
        {
            "cell_type": "code",
            "execution_count": 1,
            "metadata": {},
            "outputs": [
                {
                    "data": {
                        "text/plain": "8"
                    },
                    "execution_count": 1,
                    "metadata": {},
                    "output_type": "execute_result"
                }
            ],
            "source": "2+3*2"
        },
        {
            "cell_type": "markdown",
            "metadata": {},
            "source": "* Bullet 1\n* Bullet 2\n* Bullet 3\n\n\n1. List 1\n2. List 2\n3. List 3\n4. List \n\n<a href=\"https://www.ibm.com/cloud/learn/data-science-introduction#:~:text=Data%20science%20combines%20math%20and,decision%20making%20and%20strategic%20planning\" target=\"_blank\">IBM Data Science</a>\n\n`Highlights!`\n"
        },
        {
            "cell_type": "code",
            "execution_count": null,
            "metadata": {},
            "outputs": [],
            "source": ""
        }
    ],
    "metadata": {
        "kernelspec": {
            "display_name": "Python 3.9",
            "language": "python",
            "name": "python3"
        },
        "language_info": {
            "codemirror_mode": {
                "name": "ipython",
                "version": 3
            },
            "file_extension": ".py",
            "mimetype": "text/x-python",
            "name": "python",
            "nbconvert_exporter": "python",
            "pygments_lexer": "ipython3",
            "version": "3.9.12"
        }
    },
    "nbformat": 4,
    "nbformat_minor": 1
}